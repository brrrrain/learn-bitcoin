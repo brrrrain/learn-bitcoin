{
 "cells": [
  {
   "cell_type": "markdown",
   "metadata": {},
   "source": [
    "В Bitcoin используется криптографический алгоритм `ECDSA`, в нём всё строится на группе точек эллиптических кривых.\n",
    "Существуют некоторые особые эллиптические кривые, каждая из которых названа по своему.\n",
    "Есть эллиптическая кривая `secp256k1`, вот её (а точнее её параметры) используют в частности в Bitcoin.\n",
    "\n",
    "http://www.secg.org/SEC2-Ver-1.0.pdf 15 страница, 2.7.1 - рекомендуемые параметры (base point, etc.)\n",
    "\n",
    "Что алгоритм `ECDSA`, что эллиптическая кривая `secp256k1` были известны, использовались и до Bitcoin.\n",
    "\n",
    "С чего нужно начать? С генерации приватного ключа. Что представляет собой приватный ключ? 256 бит данных (32 байта).\n",
    "Получить свой приватный ключ можно 256 раз подкинув монетку (орёл - 0, решка - 1)."
   ]
  },
  {
   "cell_type": "code",
   "execution_count": 2,
   "metadata": {},
   "outputs": [],
   "source": [
    "import random\n",
    "\n",
    "priv_bin_key = '0b' + ''.join([str(random.randint(0, 1)) for _ in range(0, 256)])"
   ]
  },
  {
   "cell_type": "code",
   "execution_count": 3,
   "metadata": {},
   "outputs": [
    {
     "data": {
      "text/plain": [
       "'0b0010101001100101111001010101111000011101110001011011111010010101000110110110111011010001111100111111110000110101110010010001110000010100111000110111111111011100000000001100001100100111110000000110001101100010101010011110010111001001000100110101011011110000'"
      ]
     },
     "execution_count": 3,
     "metadata": {},
     "output_type": "execute_result"
    }
   ],
   "source": [
    "priv_bin_key"
   ]
  },
  {
   "cell_type": "markdown",
   "metadata": {},
   "source": [
    "`0b` - это префикс, чтобы python понимал, что в строке бинарные данные. Всё остальное - \"Орел\" или \"Решка\".\n",
    "И по сути уже это и является приватным ключом.\n",
    "\n",
    "Логично, что мы можем представить это как десятичное число:"
   ]
  },
  {
   "cell_type": "code",
   "execution_count": 4,
   "metadata": {},
   "outputs": [
    {
     "data": {
      "text/plain": [
       "19177174231323610692260439159204199819966576577409867627808962287955388618480"
      ]
     },
     "execution_count": 4,
     "metadata": {},
     "output_type": "execute_result"
    }
   ],
   "source": [
    "int(priv_bin_key, 2)"
   ]
  },
  {
   "cell_type": "markdown",
   "metadata": {},
   "source": [
    "Вот это большое число и есть наш приватный ключ в понятном любому человеку формате. В принципе, мы можем придумать сразу его. Только нюанс - число должно быть меньше `1.158 * 10^77` и больше 0. Т.е. число 1 тоже может являться приватным ключом, только небезопасным 😊\n",
    "\n",
    "Далее мы можем представить его как шестнадцатиричные данные:"
   ]
  },
  {
   "cell_type": "code",
   "execution_count": 7,
   "metadata": {},
   "outputs": [
    {
     "data": {
      "text/plain": [
       "'0x2a65e55e1dc5be951b6ed1f3fc35c91c14e37fdc00c327c06362a9e5c91356f0'"
      ]
     },
     "execution_count": 7,
     "metadata": {},
     "output_type": "execute_result"
    }
   ],
   "source": [
    "priv_hex_key = hex(int(priv_bin_key, 2))\n",
    "\n",
    "priv_hex_key"
   ]
  },
  {
   "cell_type": "markdown",
   "metadata": {},
   "source": [
    "Функция hex добавлять приставку 0x в начало 16-ричной строки. Мы её удалим, она нам будет мешать.\n",
    "\n",
    "Однако, лучше было бы закодировать наш приватный ключ в SHA256, чтобы он не оказался излишне коротким, длиным, и т.п."
   ]
  },
  {
   "cell_type": "code",
   "execution_count": 17,
   "metadata": {},
   "outputs": [
    {
     "data": {
      "text/plain": [
       "'12487f8ec0cc84700a73b1d7adf57f0e229a6967e3d3d7956c2b0544728a66ff'"
      ]
     },
     "execution_count": 17,
     "metadata": {},
     "output_type": "execute_result"
    }
   ],
   "source": [
    "import hashlib\n",
    "\n",
    "priv_hex_key = hashlib.sha256(str(int(priv_bin_key, 2)).encode()).hexdigest()\n",
    "\n",
    "priv_hex_key"
   ]
  },
  {
   "cell_type": "markdown",
   "metadata": {},
   "source": [
    "Такой приватный ключ хранить неудобно. Bitcoin предоставляет данные, которые нужно вводить, хранить и т.п. в формате `Base58Check` (`WIF`, при кодировании приватного ключа). Ты об этом формате кодирования почитаешь в книге. Удобный, ничего сложного. \n",
    "\n",
    "Рассматривать его реализацию не будем, просто используем готовое решение из библиотеки `python-bitoinlib` (https://github.com/petertodd/python-bitcoinlib).\n",
    "\n",
    "В этой библиотеке сырую функцию кодирование в `Base58Check` нужно вызывать так:\n",
    "\n",
    "```\n",
    "import bitcoin\n",
    "bitcoin.base58.encode(байтовые-данные)\n",
    "```\n",
    "\n",
    "Но предварительно нам необходимо подготовить наш приватный ключ к конвертации в `Base58Check`. А именно`:` добавить байт `0x80` в начало шестнадцатиричной строки, чтобы `Base58Check` представление ключа начиналось с цифры 5 и добавить чек сумму в конец нашей шестнадцатиричной строки"
   ]
  },
  {
   "cell_type": "markdown",
   "metadata": {},
   "source": [
    "1. Добавим байт `0x80` в начало нашего приватного ключа в шестнадцатеричном представлении:"
   ]
  },
  {
   "cell_type": "code",
   "execution_count": 18,
   "metadata": {},
   "outputs": [
    {
     "data": {
      "text/plain": [
       "'12487f8ec0cc84700a73b1d7adf57f0e229a6967e3d3d7956c2b0544728a66ff'"
      ]
     },
     "execution_count": 18,
     "metadata": {},
     "output_type": "execute_result"
    }
   ],
   "source": [
    "priv_hex_key"
   ]
  },
  {
   "cell_type": "code",
   "execution_count": 19,
   "metadata": {},
   "outputs": [],
   "source": [
    "priv_hex_key = '80' + priv_hex_key"
   ]
  },
  {
   "cell_type": "code",
   "execution_count": 20,
   "metadata": {},
   "outputs": [
    {
     "data": {
      "text/plain": [
       "'8012487f8ec0cc84700a73b1d7adf57f0e229a6967e3d3d7956c2b0544728a66ff'"
      ]
     },
     "execution_count": 20,
     "metadata": {},
     "output_type": "execute_result"
    }
   ],
   "source": [
    "priv_hex_key"
   ]
  },
  {
   "cell_type": "markdown",
   "metadata": {},
   "source": [
    "2. Вычислим и добавим чек сумму в конец. Чек сумма - это первые 4 байта вот такой радости: `sha256(sha256(наш приватный ключ))`"
   ]
  },
  {
   "cell_type": "code",
   "execution_count": 21,
   "metadata": {},
   "outputs": [
    {
     "data": {
      "text/plain": [
       "b'c1e07714'"
      ]
     },
     "execution_count": 21,
     "metadata": {},
     "output_type": "execute_result"
    }
   ],
   "source": [
    "import codecs\n",
    "import hashlib\n",
    "import binascii\n",
    "\n",
    "# из шестнадцатеричных данных в байты\n",
    "priv_bytes_key = codecs.decode(priv_hex_key, 'hex_codec')\n",
    "# два раза кодируем данные с помощью sha256 и берём первые 4 байта\n",
    "check_sum_bytes = hashlib.sha256(hashlib.sha256(priv_bytes_key).digest()).digest()[:4]\n",
    "# превращаем байтовое представление в 16-ричное\n",
    "check_sum_hex = binascii.hexlify(check_sum_bytes)\n",
    "\n",
    "check_sum_hex"
   ]
  },
  {
   "cell_type": "markdown",
   "metadata": {},
   "source": [
    "Добавим эти 4 байта в конец нашего приватного ключа в 16-ричном формате"
   ]
  },
  {
   "cell_type": "code",
   "execution_count": 22,
   "metadata": {},
   "outputs": [
    {
     "data": {
      "text/plain": [
       "'8012487f8ec0cc84700a73b1d7adf57f0e229a6967e3d3d7956c2b0544728a66ffc1e07714'"
      ]
     },
     "execution_count": 22,
     "metadata": {},
     "output_type": "execute_result"
    }
   ],
   "source": [
    "priv_hex_key += check_sum_hex.decode()\n",
    "\n",
    "priv_hex_key"
   ]
  },
  {
   "cell_type": "markdown",
   "metadata": {},
   "source": [
    "Далее передадим наш приватный ключ в 16-ричном формате с префиксом 0x80 и 4 контрольными байтами в функцию, которая вернёт нам эти же данные, но в формате `Base58Check`."
   ]
  },
  {
   "cell_type": "code",
   "execution_count": 24,
   "metadata": {},
   "outputs": [
    {
     "data": {
      "text/plain": [
       "'5HxLbpmHNe3gbzAktfpmKeU2TLdMwLQMxaiSVPEXsCXU6a7cE9y'"
      ]
     },
     "execution_count": 24,
     "metadata": {},
     "output_type": "execute_result"
    }
   ],
   "source": [
    "import codecs\n",
    "import bitcoin.base58\n",
    "\n",
    "priv_base58_key = bitcoin.base58.encode(codecs.decode(priv_hex_key, 'hex_codec'))\n",
    "\n",
    "priv_base58_key"
   ]
  },
  {
   "cell_type": "markdown",
   "metadata": {},
   "source": [
    "Вот и всё. То, что это приватный ключ, выдаёт `5` в самом начале, которое появилось благодаря байту `0x80`, который мы добавили.\n",
    "\n",
    "Из внешних библиотек я использовал только `python-bitconlib`. \n",
    "\n",
    "Устанока: `pip install python-bitcoinlib`\n",
    "\n",
    "А `hashlib`, `codecs`, `binascii` доступны из коробки/"
   ]
  }
 ],
 "metadata": {
  "kernelspec": {
   "display_name": "Python 3",
   "language": "python",
   "name": "python3"
  },
  "language_info": {
   "codemirror_mode": {
    "name": "ipython",
    "version": 3
   },
   "file_extension": ".py",
   "mimetype": "text/x-python",
   "name": "python",
   "nbconvert_exporter": "python",
   "pygments_lexer": "ipython3",
   "version": "3.5.2+"
  }
 },
 "nbformat": 4,
 "nbformat_minor": 2
}
