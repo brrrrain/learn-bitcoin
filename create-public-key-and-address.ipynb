{
 "cells": [
  {
   "cell_type": "markdown",
   "metadata": {},
   "source": [
    "Публичный ключ из приватного ключа вычиляется путём умножения на эллептических кривых `K = k * G`, где `K` - публичный ключ, `k` - приватный ключ, `G` - генераторная точка (base point), __является константой__. \n",
    "\n",
    "Сжатая форма:\n",
    "```\n",
    "G = 02 79BE667E F9DCBBAC 55A06295 CE870B07 029BFCDB 2DCE28D9 59F2815B 16F81798\n",
    "```\n",
    "\n",
    "Несжатая форма:\n",
    "```\n",
    "G = 04 79BE667E F9DCBBAC 55A06295 CE870B07 029BFCDB 2DCE28D9 59F2815B 16F81798 483ADA77 26A3C465 5DA4FBFC 0E1108A8 FD17B448 A6855419 9C47D08F FB10D4B8\n",
    "```\n",
    "\n",
    "`G` - это один из параметров эллиптической кривой `secp256k1`. Увидеть все параметры можно тут: http://www.secg.org/SEC2-Ver-1.0.pdf страница 15, параграф 2.7.1\n",
    "\n",
    "Обратная операция умножения на эллептических кривых называется нахождением дискретного логарифма, вычисление `k` при известном `K` возможно лишь с помощью полного перебора.\n",
    "\n",
    "Я не имею возможности углубиться в математику, поэтому не смогу продемонстрировать вычисления на более низком уровне. Будем использовать готовую библиотеку для работы с Bitcoin. Которая, в свою очередь, как и многие другие, для вычислений использует готовые решения из `openssl`."
   ]
  },
  {
   "cell_type": "markdown",
   "metadata": {},
   "source": [
    "Используем уже готовый приватный ключ, который я получил в предыдущем примере"
   ]
  },
  {
   "cell_type": "code",
   "execution_count": 58,
   "metadata": {},
   "outputs": [],
   "source": [
    "priv_base58_key = '5HxLbpmHNe3gbzAktfpmKeU2TLdMwLQMxaiSVPEXsCXU6a7cE9y'"
   ]
  },
  {
   "cell_type": "code",
   "execution_count": 56,
   "metadata": {},
   "outputs": [
    {
     "data": {
      "text/plain": [
       "CPubKey(b\"\\x04\\x11\\x08\\xfe\\xfcS\\xc2UN\\xb1Tls~f\\xbe\\x9b\\xc4,\\x9d{D\\xc3\\x116\\xeeg\\xc2fK\\xfa\\xcf\\x9f`\\x16\\xdd\\xe5\\xc1'\\xd8< \\x8d\\xec\\x0b^\\x9e\\xba\\x04\\n\\x12\\xd9\\xcfDf.\\x81\\x9cj4\\xa9\\x14\\xe1~\\xb3\")"
      ]
     },
     "execution_count": 56,
     "metadata": {},
     "output_type": "execute_result"
    }
   ],
   "source": [
    "from bitcoin.wallet import CBitcoinSecret\n",
    "\n",
    "private_key = CBitcoinSecret(priv_base58_key)\n",
    "\n",
    "private_key.pub"
   ]
  },
  {
   "cell_type": "markdown",
   "metadata": {},
   "source": [
    "В случае использования такой высокоуровневой библиотеки как `python-bitcoinlib` для получения публичного ключа, нам стоит лишь обратиться к свойству `pub` объекта приватного ключа."
   ]
  },
  {
   "cell_type": "markdown",
   "metadata": {},
   "source": [
    "Теперь разберём процесс вычисления Bitcoin адреса из публичного ключа. Происходит он так: хешируем публичный ключ с помощью хеш-функции `sha256`, результат хешируем с помощью `ripemd160`, добавляем байт `0x00` в начало получившихся данных и кодируем это в `Base58Check`. \n",
    "\n",
    "В прошлый раз мы уже разбирали что представляют из себя 4 контрольных байта и как их получить. Повторим эту же процедуру и сейчас. Получим 4 байта, добавим в конец данных, результирующие данные кодируем в `Base58`, чтобы получить строку в `Base58Check`"
   ]
  },
  {
   "cell_type": "code",
   "execution_count": 59,
   "metadata": {},
   "outputs": [
    {
     "data": {
      "text/plain": [
       "'1LcpkXnZVyknWWQMnoyRs6R6MBKJWU4Smj'"
      ]
     },
     "execution_count": 59,
     "metadata": {},
     "output_type": "execute_result"
    }
   ],
   "source": [
    "import hashlib\n",
    "import bitcoin.base58\n",
    "\n",
    "\n",
    "ripemd160 = hashlib.new('ripemd160')\n",
    "\n",
    "# ripemd160(sha256(public-key))\n",
    "ripemd160.update(hashlib.sha256(private_key.pub).digest())\n",
    "\n",
    "# checksum: два раза кодируем данные с помощью sha256 и берём первые 4 байта\n",
    "check_sum_bytes = hashlib.sha256(hashlib.sha256(ripemd160.digest()).digest()).digest()[:4]\n",
    "\n",
    "# 0x00 + ripemd160(sha256(public-key)) + check sum bytes\n",
    "address_bytes = bytes([0]) + ripemd160.digest() + check_sum_bytes\n",
    "\n",
    "address = bitcoin.base58.encode(address_bytes)\n",
    "\n",
    "address"
   ]
  },
  {
   "cell_type": "markdown",
   "metadata": {},
   "source": [
    "В реальных проектах, мы можем обойтись без написания лишнего кода, а использовать уже готовые решения"
   ]
  },
  {
   "cell_type": "code",
   "execution_count": 60,
   "metadata": {},
   "outputs": [
    {
     "data": {
      "text/plain": [
       "P2PKHBitcoinAddress('1LcpkXnZVyknWWQMnoyRs6R6MBKJTrQFEv')"
      ]
     },
     "execution_count": 60,
     "metadata": {},
     "output_type": "execute_result"
    }
   ],
   "source": [
    "from bitcoin.wallet import CBitcoinAddress\n",
    "from bitcoin.core.serialize import Hash160\n",
    "\n",
    "CBitcoinAddress.from_bytes(Hash160(private_key.pub), 0)"
   ]
  },
  {
   "cell_type": "markdown",
   "metadata": {},
   "source": [
    "Получили тот же результат. Просто абстракции, которые предоставляет нам `python-bitcoinlib`, уместили это в одну строку. \n",
    "\n",
    "Функция `Hash160` просто делает `ripemd160(sha256(public-key))`, метод `from_bytes` класса `CBitcoinAddress` кодирует результат функции `Hash160` в `Base58Check` автоматически вычисляя контрольную сумму и подставляя в качестве префикса байт `0x00`, который мы переедали вторым аргументом."
   ]
  }
 ],
 "metadata": {
  "kernelspec": {
   "display_name": "Python 3",
   "language": "python",
   "name": "python3"
  },
  "language_info": {
   "codemirror_mode": {
    "name": "ipython",
    "version": 3
   },
   "file_extension": ".py",
   "mimetype": "text/x-python",
   "name": "python",
   "nbconvert_exporter": "python",
   "pygments_lexer": "ipython3",
   "version": "3.5.2+"
  }
 },
 "nbformat": 4,
 "nbformat_minor": 2
}
